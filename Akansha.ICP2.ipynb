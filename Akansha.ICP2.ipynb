{
  "nbformat": 4,
  "nbformat_minor": 0,
  "metadata": {
    "colab": {
      "provenance": []
    },
    "kernelspec": {
      "name": "python3",
      "display_name": "Python 3"
    },
    "language_info": {
      "name": "python"
    }
  },
  "cells": [
    {
      "cell_type": "markdown",
      "source": [
        "Python program that takes two strings from the user: first_name, last_name. Pass these variables to fullname function that should return the (full name)."
      ],
      "metadata": {
        "id": "CDu4wJAsHNfy"
      }
    },
    {
      "cell_type": "code",
      "execution_count": null,
      "metadata": {
        "colab": {
          "base_uri": "https://localhost:8080/"
        },
        "id": "IcvjbWSthJYU",
        "outputId": "d9a86b4a-2bf3-4914-ea33-55e5147c845b"
      },
      "outputs": [
        {
          "output_type": "stream",
          "name": "stdout",
          "text": [
            "Enter your first name: Akansha\n",
            "Enter your last name: Parvatheneni\n",
            "Akansha Parvatheneni\n",
            "Enter the string: Good Evening\n",
            "Go vnn\n"
          ]
        }
      ],
      "source": [
        "#Function that takes first name and last name and returns full name\n",
        "def full_name(first_name, last_name):\n",
        "\n",
        "  #Combined using string concatenation operator\n",
        "  return first_name + \" \" + last_name\n",
        "\n",
        "\n",
        "#Function that takes a string and returns string with alternative characters\n",
        "def string_alternative(original_string):\n",
        "\n",
        "  #Alternate characters are taken using slicing operator with step 2\n",
        "  return original_string[::2]\n",
        "\n",
        "\n",
        "\n",
        "First_name = input(\"Enter your first name: \") #Taking first name input\n",
        "Last_name = input(\"Enter your last name: \") #Taking last name input\n",
        "print(full_name(First_name, Last_name)) #Calling funtion and printing full name\n",
        "\n",
        "\n",
        "Original_string = input(\"Enter the string: \") #Inputting a string from the user\n",
        "print(string_alternative(Original_string)) #Printing alternate characters in the string"
      ]
    },
    {
      "cell_type": "code",
      "source": [
        "#Opening input.txt file and reading the contents using a variable\n",
        "with open('input.txt', 'r') as reader:\n",
        "  contents = []\n",
        "\n",
        "  #Getting each line in the file and splitting them into words and adding them to the list\n",
        "  for line in reader.readlines():\n",
        "    contents += list(map(str.strip, line.split(\" \")))\n",
        "\n",
        "\n",
        "#Defining empty dictionary to store the word count\n",
        "word_count = {}\n",
        "for i in contents:\n",
        "\n",
        "  #Checking if the word already exists in the dictionary\n",
        "  #If it is present, then it's count is incremented\n",
        "  if i in word_count.keys():\n",
        "    word_count[i] += 1\n",
        "\n",
        "  #Else new key is created and it's value is set to 1 indiacting it's first occurance in the file\n",
        "  else:\n",
        "    word_count[i] = 1\n",
        "\n",
        "#New file is created and writing the contents in the dictionary to this file\n",
        "with open('output.txt', 'w') as writer:\n",
        "\n",
        "    #Accessing each word and it's value and writing it in the file\n",
        "    for word, value in word_count.items():\n",
        "        writer.write(word + \": \" + str(value) + \"\\n\")\n",
        "\n",
        "    #Closing this file automatically downloads it to the system\n",
        "    writer.close()"
      ],
      "metadata": {
        "id": "3j8jCG7zmhTh"
      },
      "execution_count": 8,
      "outputs": []
    },
    {
      "cell_type": "markdown",
      "source": [
        "Python program which reads heights (inches.) of customers into a list and\n",
        "convert these heights to centimeters in a separate list using:\n",
        "1) Nested Interactive loop.\n",
        "2) List comprehensions"
      ],
      "metadata": {
        "id": "ta05SG_ocf4I"
      }
    },
    {
      "cell_type": "code",
      "source": [
        "#Inputting the heights in centimeters into the list\n",
        "heights_cm = list(map(int, input(\"Enter heights in centimeters: \").split()))\n",
        "\n",
        "#Using loop the heights in centimeters are converted into inches\n",
        "heights_in = []\n",
        "for i in heights_cm:\n",
        "  heights_in.append(2.54*i)\n",
        "\n",
        "#The converted heights are printed\n",
        "print(\"Heights in inches using loop: \", heights_in)\n",
        "\n",
        "\n",
        "#Using list comprehension, the heights in centimeters are converted into inches\n",
        "heights_inc = [2.54*inches for inches in heights_cm]\n",
        "print(\"Heights in inches using list comprehension: \", heights_inc)"
      ],
      "metadata": {
        "colab": {
          "base_uri": "https://localhost:8080/"
        },
        "id": "zTvsCcvZnPbC",
        "outputId": "a4f9d92f-d5ff-49db-d5e8-260b6233ce09"
      },
      "execution_count": 9,
      "outputs": [
        {
          "output_type": "stream",
          "name": "stdout",
          "text": [
            "Enter heights in centimeters: 100 120 140 160\n",
            "Heights in inches using loop:  [254.0, 304.8, 355.6, 406.4]\n",
            "Heights in inches using list comprehension:  [254.0, 304.8, 355.6, 406.4]\n"
          ]
        }
      ]
    },
    {
      "cell_type": "code",
      "source": [],
      "metadata": {
        "id": "beYqVt1F1bGy"
      },
      "execution_count": null,
      "outputs": []
    }
  ]
}