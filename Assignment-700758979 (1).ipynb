{
  "nbformat": 4,
  "nbformat_minor": 0,
  "metadata": {
    "colab": {
      "provenance": [],
      "toc_visible": true
    },
    "kernelspec": {
      "name": "python3",
      "display_name": "Python 3"
    },
    "language_info": {
      "name": "python"
    }
  },
  "cells": [
    {
      "cell_type": "markdown",
      "source": [
        "Write a python program for the following:\n",
        "\n",
        "Input the string “Python” as a list of characters from console, delete at least 2 characters, reversethe resultant string and print it.\n",
        "Sample input: •python\n",
        "Sample output: •ntyp"
      ],
      "metadata": {
        "id": "UJtQjLfDofuz"
      }
    },
    {
      "cell_type": "code",
      "source": [
        "# Task 1: Manipulating Strings\n",
        "input_string = input(\"Enter a string: \")  # Input the string\n",
        "char_list = list(input_string)  # Convert the string to a list of characters\n",
        "\n",
        "if len(char_list) >= 2:  # Ensure there are at least 2 characters to delete\n",
        "    del char_list[:2]  # Delete the last two characters\n",
        "    char_list.reverse()  # Reverse the list\n",
        "    result = ''.join(char_list)  # Convert the list back to a string\n",
        "    print(\"Modified and reversed string:\", result)\n",
        "else:\n",
        "    print(\"String must have at least 2 characters to perform the operation.\")\n",
        "\n"
      ],
      "metadata": {
        "colab": {
          "base_uri": "https://localhost:8080/"
        },
        "id": "S6sEKfOHoslU",
        "outputId": "ebf796e3-4f22-4038-f7ec-03451bc05639"
      },
      "execution_count": null,
      "outputs": [
        {
          "output_type": "stream",
          "name": "stdout",
          "text": [
            "Enter a string: python\n",
            "Modified and reversed string: noht\n"
          ]
        }
      ]
    },
    {
      "cell_type": "code",
      "source": [
        "# Task 2: Arithmetic Operations\n",
        "num1 = float(input(\"Enter the first number: \"))\n",
        "num2 = float(input(\"Enter the second number: \"))\n",
        "\n",
        "# Perform arithmetic operations\n",
        "addition = num1 + num2\n",
        "subtraction = num1 - num2\n",
        "multiplication = num1 * num2\n",
        "\n",
        "# Check if num2 is not 0 to avoid division by zero\n",
        "if num2 != 0:\n",
        "    division = num1 / num2\n",
        "else:\n",
        "    division = \"Undefined (division by zero)\"\n",
        "\n",
        "print(\"Arithmetic Operations:\")\n",
        "print(\"Addition:\", addition)\n",
        "print(\"Subtraction:\", subtraction)\n",
        "print(\"Multiplication:\", multiplication)\n",
        "print(\"Division:\", division)"
      ],
      "metadata": {
        "colab": {
          "base_uri": "https://localhost:8080/"
        },
        "id": "GdUFB1jFpAWp",
        "outputId": "ea15a4a0-d3cf-44e7-d701-f50571fe1d3e"
      },
      "execution_count": null,
      "outputs": [
        {
          "output_type": "stream",
          "name": "stdout",
          "text": [
            "Enter the first number: 5\n",
            "Enter the second number: 6\n",
            "Arithmetic Operations:\n",
            "Addition: 11.0\n",
            "Subtraction: -1.0\n",
            "Multiplication: 30.0\n",
            "Division: 0.8333333333333334\n"
          ]
        }
      ]
    },
    {
      "cell_type": "markdown",
      "source": [
        "Write a program that accepts a sentence and replace each occurrence of ‘python’ with ‘pythons’."
      ],
      "metadata": {
        "id": "M296KakmpL_b"
      }
    },
    {
      "cell_type": "code",
      "source": [
        "def replace_python(sentence):\n",
        "    replaced_sentence = sentence.replace(\"python\", \"pythons\")\n",
        "    return replaced_sentence\n",
        "\n",
        "input_sentence = input(\"Enter a sentence: \")\n",
        "modified_sentence = replace_python(input_sentence)\n",
        "print(\"Modified sentence:\", modified_sentence)"
      ],
      "metadata": {
        "colab": {
          "base_uri": "https://localhost:8080/"
        },
        "id": "SByM9pvBpQJY",
        "outputId": "b43c8657-f07b-4780-9cc6-58071ec27581"
      },
      "execution_count": null,
      "outputs": [
        {
          "output_type": "stream",
          "name": "stdout",
          "text": [
            "Enter a sentence: I love playing with python\n",
            "Modified sentence: I love playing with pythons\n"
          ]
        }
      ]
    },
    {
      "cell_type": "markdown",
      "source": [
        "Use the if statement conditions to write a program to print the letter grade based on an input class score. Use the grading scheme we are using in this class."
      ],
      "metadata": {
        "id": "frmYntQZpbSr"
      }
    },
    {
      "cell_type": "code",
      "source": [
        "def calculate_class_grade(score):\n",
        "    if score >= 90:\n",
        "        return \"A\"\n",
        "    elif score >= 80:\n",
        "        return \"B\"\n",
        "    elif score >= 70:\n",
        "        return \"C\"\n",
        "    elif score >= 60:\n",
        "        return \"D\"\n",
        "    else:\n",
        "        return \"F\"\n",
        "\n",
        "# Get input class score from the user\n",
        "try:\n",
        "    class_score = float(input(\"Enter the class score: \"))\n",
        "    if 0 <= class_score <= 100:\n",
        "        letter_grade = calculate_class_grade(class_score)\n",
        "        print(\"The letter grade for the score {:.2f} is: {}\".format(class_score, letter_grade))\n",
        "    else:\n",
        "        print(\"Invalid score. Please enter a score between 0 and 100.\")\n",
        "except ValueError:\n",
        "    print(\"Invalid input. Please enter a valid number.\")"
      ],
      "metadata": {
        "colab": {
          "base_uri": "https://localhost:8080/"
        },
        "id": "Cm9R43BApg7z",
        "outputId": "ae30a581-780d-4910-d33f-ca0ab8e4630d"
      },
      "execution_count": null,
      "outputs": [
        {
          "output_type": "stream",
          "name": "stdout",
          "text": [
            "Enter the class score: 89\n",
            "The letter grade for the score 89.00 is: B\n"
          ]
        }
      ]
    }
  ]
}